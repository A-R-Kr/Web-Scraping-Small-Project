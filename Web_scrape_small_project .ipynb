{
 "cells": [
  {
   "cell_type": "markdown",
   "metadata": {},
   "source": [
    "# Web_scrape_small_project_all movies_filmed in Turkey\n",
    "\n",
    "In this small project, we will get the following information of all movies that are filmed in Turkey from IMDB Top 1000. And save them to cvs file for future use.\n",
    "\n",
    "Movie names\n",
    "Release Year\n",
    "IMDB Rank\n",
    "Gross Revenue\n"
   ]
  },
  {
   "cell_type": "code",
   "execution_count": 1,
   "metadata": {},
   "outputs": [],
   "source": [
    "import requests\n",
    "from bs4 import BeautifulSoup\n",
    "import pandas as pd\n",
    "import numpy as np"
   ]
  },
  {
   "cell_type": "code",
   "execution_count": 2,
   "metadata": {},
   "outputs": [],
   "source": [
    "url='https://www.imdb.com/search/title/?groups=top_1000&locations=turkey'\n",
    "r=requests.get(url)\n",
    "soup = BeautifulSoup(r.text,'html.parser')"
   ]
  },
  {
   "cell_type": "code",
   "execution_count": 3,
   "metadata": {},
   "outputs": [],
   "source": [
    "#print(soup.prettify())"
   ]
  },
  {
   "cell_type": "code",
   "execution_count": 4,
   "metadata": {},
   "outputs": [],
   "source": [
    "#Scrape total movie numbers\n",
    "tot_num=int(soup.find('div',{'class':'desc'}).find('span').text.split()[0])"
   ]
  },
  {
   "cell_type": "code",
   "execution_count": 5,
   "metadata": {},
   "outputs": [
    {
     "data": {
      "text/plain": [
       "17"
      ]
     },
     "execution_count": 5,
     "metadata": {},
     "output_type": "execute_result"
    }
   ],
   "source": [
    "tot_num"
   ]
  },
  {
   "cell_type": "code",
   "execution_count": 6,
   "metadata": {},
   "outputs": [
    {
     "name": "stdout",
     "output_type": "stream",
     "text": [
      "<div class=\"lister-item-content\">\n",
      "<h3 class=\"lister-item-header\">\n",
      "<span class=\"lister-item-index unbold text-primary\">1.</span>\n",
      "<a href=\"/title/tt1074638/\">Skyfall</a>\n",
      "<span class=\"lister-item-year text-muted unbold\">(2012)</span>\n",
      "</h3>\n",
      "<p class=\"text-muted\">\n",
      "<span class=\"certificate\">12</span>\n",
      "<span class=\"ghost\">|</span>\n",
      "<span class=\"runtime\">143 min</span>\n",
      "<span class=\"ghost\">|</span>\n",
      "<span class=\"genre\">\n",
      "Action, Adventure, Thriller            </span>\n",
      "</p>\n",
      "<div class=\"ratings-bar\">\n",
      "<div class=\"inline-block ratings-imdb-rating\" data-value=\"7.7\" name=\"ir\">\n",
      "<span class=\"global-sprite rating-star imdb-rating\"></span>\n",
      "<strong>7.7</strong>\n",
      "</div>\n",
      "<div class=\"inline-block ratings-user-rating\">\n",
      "<span class=\"userRatingValue\" data-tconst=\"tt1074638\" id=\"urv_tt1074638\">\n",
      "<span class=\"global-sprite rating-star no-rating\"></span>\n",
      "<span class=\"rate\" data-no-rating=\"Rate this\" data-value=\"0\" name=\"ur\">Rate this</span>\n",
      "</span>\n",
      "<div class=\"starBarWidget\" id=\"sb_tt1074638\">\n",
      "<div class=\"rating rating-list\" data-auth=\"\" data-ga-identifier=\"\" data-starbar-class=\"rating-list\" data-user=\"\" id=\"tt1074638|imdb|7.7|7.7|adv_li_tt||advsearch|title\" itemprop=\"aggregateRating\" itemscope=\"\" itemtype=\"http://schema.org/AggregateRating\" title=\"Users rated this 7.7/10 (608,692 votes) - click stars to rate\">\n",
      "<meta content=\"7.7\" itemprop=\"ratingValue\"/>\n",
      "<meta content=\"10\" itemprop=\"bestRating\"/>\n",
      "<meta content=\"608692\" itemprop=\"ratingCount\"/>\n",
      "<span class=\"rating-bg\"> </span>\n",
      "<span class=\"rating-imdb\" style=\"width: 107.8px\"> </span>\n",
      "<span class=\"rating-stars\">\n",
      "<a href=\"/register/login?why=vote\" rel=\"nofollow\" title=\"Register or login to rate this title\"><span>1</span></a>\n",
      "<a href=\"/register/login?why=vote\" rel=\"nofollow\" title=\"Register or login to rate this title\"><span>2</span></a>\n",
      "<a href=\"/register/login?why=vote\" rel=\"nofollow\" title=\"Register or login to rate this title\"><span>3</span></a>\n",
      "<a href=\"/register/login?why=vote\" rel=\"nofollow\" title=\"Register or login to rate this title\"><span>4</span></a>\n",
      "<a href=\"/register/login?why=vote\" rel=\"nofollow\" title=\"Register or login to rate this title\"><span>5</span></a>\n",
      "<a href=\"/register/login?why=vote\" rel=\"nofollow\" title=\"Register or login to rate this title\"><span>6</span></a>\n",
      "<a href=\"/register/login?why=vote\" rel=\"nofollow\" title=\"Register or login to rate this title\"><span>7</span></a>\n",
      "<a href=\"/register/login?why=vote\" rel=\"nofollow\" title=\"Register or login to rate this title\"><span>8</span></a>\n",
      "<a href=\"/register/login?why=vote\" rel=\"nofollow\" title=\"Register or login to rate this title\"><span>9</span></a>\n",
      "<a href=\"/register/login?why=vote\" rel=\"nofollow\" title=\"Register or login to rate this title\"><span>10</span></a>\n",
      "</span>\n",
      "<span class=\"rating-rating\"><span class=\"value\">7.7</span><span class=\"grey\">/</span><span class=\"grey\">10</span></span>\n",
      "<span class=\"rating-cancel\"><a href=\"/title/tt1074638/vote?v=X;k=\" rel=\"nofollow\" title=\"Delete\"><span>X</span></a></span>\n",
      " </div>\n",
      "</div>\n",
      "</div>\n",
      "<div class=\"inline-block ratings-metascore\">\n",
      "<span class=\"metascore favorable\">81        </span>\n",
      "        Metascore\n",
      "            </div>\n",
      "</div>\n",
      "<p class=\"text-muted\">\n",
      "    James Bond's loyalty to M is tested when her past comes back to haunt her. When MI6 comes under attack, 007 must track down and destroy the threat, no matter how personal the cost.</p>\n",
      "<p class=\"\">\n",
      "    Director:\n",
      "<a href=\"/name/nm0005222/\">Sam Mendes</a>\n",
      "<span class=\"ghost\">|</span> \n",
      "    Stars:\n",
      "<a href=\"/name/nm0185819/\">Daniel Craig</a>, \n",
      "<a href=\"/name/nm0000849/\">Javier Bardem</a>, \n",
      "<a href=\"/name/nm0365140/\">Naomie Harris</a>, \n",
      "<a href=\"/name/nm0001132/\">Judi Dench</a>\n",
      "</p>\n",
      "<p class=\"sort-num_votes-visible\">\n",
      "<span class=\"text-muted\">Votes:</span>\n",
      "<span data-value=\"608692\" name=\"nv\">608,692</span>\n",
      "<span class=\"ghost\">|</span> <span class=\"text-muted\">Gross:</span>\n",
      "<span data-value=\"304,360,277\" name=\"nv\">$304.36M</span>\n",
      "</p>\n",
      "</div>\n"
     ]
    }
   ],
   "source": [
    "#Each row will contain the following html code-this is the first one\n",
    "rows=soup.find('div',{'class':'lister-item-content'})\n",
    "print(rows)"
   ]
  },
  {
   "cell_type": "code",
   "execution_count": 7,
   "metadata": {},
   "outputs": [],
   "source": [
    "#Find all rows that contain our movie information, they are in a list format\n",
    "\n",
    "all_rows= soup.find_all('div',{'class':'lister-item-content'})"
   ]
  },
  {
   "cell_type": "code",
   "execution_count": 8,
   "metadata": {},
   "outputs": [
    {
     "data": {
      "text/plain": [
       "<div class=\"lister-item-content\">\n",
       "<h3 class=\"lister-item-header\">\n",
       "<span class=\"lister-item-index unbold text-primary\">3.</span>\n",
       "<a href=\"/title/tt0108358/\">Tombstone</a>\n",
       "<span class=\"lister-item-year text-muted unbold\">(1993)</span>\n",
       "</h3>\n",
       "<p class=\"text-muted\">\n",
       "<span class=\"certificate\">12</span>\n",
       "<span class=\"ghost\">|</span>\n",
       "<span class=\"runtime\">130 min</span>\n",
       "<span class=\"ghost\">|</span>\n",
       "<span class=\"genre\">\n",
       "Action, Biography, Drama            </span>\n",
       "</p>\n",
       "<div class=\"ratings-bar\">\n",
       "<div class=\"inline-block ratings-imdb-rating\" data-value=\"7.8\" name=\"ir\">\n",
       "<span class=\"global-sprite rating-star imdb-rating\"></span>\n",
       "<strong>7.8</strong>\n",
       "</div>\n",
       "<div class=\"inline-block ratings-user-rating\">\n",
       "<span class=\"userRatingValue\" data-tconst=\"tt0108358\" id=\"urv_tt0108358\">\n",
       "<span class=\"global-sprite rating-star no-rating\"></span>\n",
       "<span class=\"rate\" data-no-rating=\"Rate this\" data-value=\"0\" name=\"ur\">Rate this</span>\n",
       "</span>\n",
       "<div class=\"starBarWidget\" id=\"sb_tt0108358\">\n",
       "<div class=\"rating rating-list\" data-auth=\"\" data-ga-identifier=\"\" data-starbar-class=\"rating-list\" data-user=\"\" id=\"tt0108358|imdb|7.8|7.8|adv_li_tt||advsearch|title\" itemprop=\"aggregateRating\" itemscope=\"\" itemtype=\"http://schema.org/AggregateRating\" title=\"Users rated this 7.8/10 (119,365 votes) - click stars to rate\">\n",
       "<meta content=\"7.8\" itemprop=\"ratingValue\"/>\n",
       "<meta content=\"10\" itemprop=\"bestRating\"/>\n",
       "<meta content=\"119365\" itemprop=\"ratingCount\"/>\n",
       "<span class=\"rating-bg\"> </span>\n",
       "<span class=\"rating-imdb\" style=\"width: 109.2px\"> </span>\n",
       "<span class=\"rating-stars\">\n",
       "<a href=\"/register/login?why=vote\" rel=\"nofollow\" title=\"Register or login to rate this title\"><span>1</span></a>\n",
       "<a href=\"/register/login?why=vote\" rel=\"nofollow\" title=\"Register or login to rate this title\"><span>2</span></a>\n",
       "<a href=\"/register/login?why=vote\" rel=\"nofollow\" title=\"Register or login to rate this title\"><span>3</span></a>\n",
       "<a href=\"/register/login?why=vote\" rel=\"nofollow\" title=\"Register or login to rate this title\"><span>4</span></a>\n",
       "<a href=\"/register/login?why=vote\" rel=\"nofollow\" title=\"Register or login to rate this title\"><span>5</span></a>\n",
       "<a href=\"/register/login?why=vote\" rel=\"nofollow\" title=\"Register or login to rate this title\"><span>6</span></a>\n",
       "<a href=\"/register/login?why=vote\" rel=\"nofollow\" title=\"Register or login to rate this title\"><span>7</span></a>\n",
       "<a href=\"/register/login?why=vote\" rel=\"nofollow\" title=\"Register or login to rate this title\"><span>8</span></a>\n",
       "<a href=\"/register/login?why=vote\" rel=\"nofollow\" title=\"Register or login to rate this title\"><span>9</span></a>\n",
       "<a href=\"/register/login?why=vote\" rel=\"nofollow\" title=\"Register or login to rate this title\"><span>10</span></a>\n",
       "</span>\n",
       "<span class=\"rating-rating\"><span class=\"value\">7.8</span><span class=\"grey\">/</span><span class=\"grey\">10</span></span>\n",
       "<span class=\"rating-cancel\"><a href=\"/title/tt0108358/vote?v=X;k=\" rel=\"nofollow\" title=\"Delete\"><span>X</span></a></span>\n",
       " </div>\n",
       "</div>\n",
       "</div>\n",
       "<div class=\"inline-block ratings-metascore\">\n",
       "<span class=\"metascore mixed\">50        </span>\n",
       "        Metascore\n",
       "            </div>\n",
       "</div>\n",
       "<p class=\"text-muted\">\n",
       "    A successful lawman's plans to retire anonymously in Tombstone, Arizona, are disrupted by the kind of outlaws he was famous for eliminating.</p>\n",
       "<p class=\"\">\n",
       "    Directors:\n",
       "<a href=\"/name/nm0181902/\">George P. Cosmatos</a>, \n",
       "<a href=\"/name/nm0418883/\">Kevin Jarre</a>\n",
       "<span class=\"ghost\">|</span> \n",
       "    Stars:\n",
       "<a href=\"/name/nm0000621/\">Kurt Russell</a>, \n",
       "<a href=\"/name/nm0000174/\">Val Kilmer</a>, \n",
       "<a href=\"/name/nm0000385/\">Sam Elliott</a>, \n",
       "<a href=\"/name/nm0000200/\">Bill Paxton</a>\n",
       "</p>\n",
       "<p class=\"sort-num_votes-visible\">\n",
       "<span class=\"text-muted\">Votes:</span>\n",
       "<span data-value=\"119365\" name=\"nv\">119,365</span>\n",
       "<span class=\"ghost\">|</span> <span class=\"text-muted\">Gross:</span>\n",
       "<span data-value=\"56,505,065\" name=\"nv\">$56.51M</span>\n",
       "</p>\n",
       "</div>"
      ]
     },
     "execution_count": 8,
     "metadata": {},
     "output_type": "execute_result"
    }
   ],
   "source": [
    "# Trying to find the html info for the 3rd item in my list. Works fine.\n",
    "all_rows[2]"
   ]
  },
  {
   "cell_type": "markdown",
   "metadata": {},
   "source": [
    "I will try to get the required info for one item then use the same codes in the for loop."
   ]
  },
  {
   "cell_type": "code",
   "execution_count": 9,
   "metadata": {},
   "outputs": [
    {
     "name": "stdout",
     "output_type": "stream",
     "text": [
      "Tombstone\n"
     ]
    }
   ],
   "source": [
    "name=all_rows[2].find('h3',{'class':\"lister-item-header\"}).find('a').text.strip()\n",
    "print(name)"
   ]
  },
  {
   "cell_type": "code",
   "execution_count": 10,
   "metadata": {},
   "outputs": [
    {
     "name": "stdout",
     "output_type": "stream",
     "text": [
      "1993\n"
     ]
    }
   ],
   "source": [
    "year=all_rows[2].find('span',{'class':\"lister-item-year text-muted unbold\"}).text.strip('()')\n",
    "print(year)"
   ]
  },
  {
   "cell_type": "code",
   "execution_count": 11,
   "metadata": {},
   "outputs": [
    {
     "name": "stdout",
     "output_type": "stream",
     "text": [
      "7.8\n"
     ]
    }
   ],
   "source": [
    "rank=all_rows[2].find('div',{'class':\"inline-block ratings-imdb-rating\"}).find('strong').text.strip()\n",
    "print(rank)"
   ]
  },
  {
   "cell_type": "code",
   "execution_count": 12,
   "metadata": {},
   "outputs": [
    {
     "name": "stdout",
     "output_type": "stream",
     "text": [
      "$56.51M\n"
     ]
    }
   ],
   "source": [
    "gross_revenue=all_rows[2].find('p',{'class': 'sort-num_votes-visible'}).text.split()[4]\n",
    "\n",
    "print(gross_revenue)"
   ]
  },
  {
   "cell_type": "code",
   "execution_count": 13,
   "metadata": {},
   "outputs": [
    {
     "name": "stdout",
     "output_type": "stream",
     "text": [
      "['Skyfall', 'Argo', 'Tombstone', 'The Fall', 'Midnight Express', 'Kis Uykusu', 'Gegen die Wand', 'Mustang', 'Eskiya', 'Babam ve Oglum', \"Bir Zamanlar Anadolu'da\", 'Ayla: The Daughter of War', 'G.O.R.A.', 'Baby', 'Auf der anderen Seite', 'De ademtocht', 'Vizontele']\n"
     ]
    }
   ],
   "source": [
    "#Testing for the entire for loop\n",
    "\n",
    "names=[]\n",
    "for row in all_rows:\n",
    "        name=row.find('h3',{'class':\"lister-item-header\"}).find('a').text.strip()\n",
    "        names.append(name)\n",
    "        \n",
    "print(names)"
   ]
  },
  {
   "cell_type": "code",
   "execution_count": 14,
   "metadata": {},
   "outputs": [
    {
     "name": "stdout",
     "output_type": "stream",
     "text": [
      "https://www.imdb.com/search/title/?groups=top_1000&locations=turkey >>>>complete\n",
      "https://www.imdb.com/search/title/?groups=top_1000&locations=turkey >>>>complete\n",
      "https://www.imdb.com/search/title/?groups=top_1000&locations=turkey >>>>complete\n",
      "https://www.imdb.com/search/title/?groups=top_1000&locations=turkey >>>>complete\n",
      "https://www.imdb.com/search/title/?groups=top_1000&locations=turkey >>>>complete\n",
      "https://www.imdb.com/search/title/?groups=top_1000&locations=turkey >>>>complete\n",
      "https://www.imdb.com/search/title/?groups=top_1000&locations=turkey >>>>complete\n",
      "https://www.imdb.com/search/title/?groups=top_1000&locations=turkey >>>>complete\n",
      "https://www.imdb.com/search/title/?groups=top_1000&locations=turkey >>>>complete\n",
      "https://www.imdb.com/search/title/?groups=top_1000&locations=turkey >>>>complete\n",
      "https://www.imdb.com/search/title/?groups=top_1000&locations=turkey >>>>complete\n",
      "https://www.imdb.com/search/title/?groups=top_1000&locations=turkey >>>>complete\n",
      "https://www.imdb.com/search/title/?groups=top_1000&locations=turkey >>>>complete\n",
      "https://www.imdb.com/search/title/?groups=top_1000&locations=turkey >>>>complete\n",
      "https://www.imdb.com/search/title/?groups=top_1000&locations=turkey >>>>complete\n",
      "https://www.imdb.com/search/title/?groups=top_1000&locations=turkey >>>>complete\n",
      "https://www.imdb.com/search/title/?groups=top_1000&locations=turkey >>>>complete\n"
     ]
    }
   ],
   "source": [
    "#Scrape names, years, ranks and small description of movies\n",
    "names=[]\n",
    "years=[]\n",
    "ranks=[]\n",
    "gross_revenues=[]\n",
    "\n",
    "for row in all_rows:\n",
    "    name=row.find('h3',{'class':\"lister-item-header\"}).find('a').text.strip()\n",
    "    names.append(name)\n",
    "    year=row.find('span',{'class':\"lister-item-year text-muted unbold\"}).text.strip('()')\n",
    "    years.append(year)\n",
    "    rank=row.find('div',{'class':\"inline-block ratings-imdb-rating\"}).find('strong').text.strip()\n",
    "    ranks.append(rank)\n",
    "    try: # some movies don't have gross revenue info so we should not get an error message\n",
    "        gross_revenue=row.find('p',{'class': 'sort-num_votes-visible'}).text.split()[4]\n",
    "        gross_revenues.append(gross_revenue)\n",
    "    except:\n",
    "        gross_revenues.append('None')\n",
    "    print(url+' >>>>complete')"
   ]
  },
  {
   "cell_type": "code",
   "execution_count": 15,
   "metadata": {},
   "outputs": [
    {
     "data": {
      "text/html": [
       "<div>\n",
       "<style scoped>\n",
       "    .dataframe tbody tr th:only-of-type {\n",
       "        vertical-align: middle;\n",
       "    }\n",
       "\n",
       "    .dataframe tbody tr th {\n",
       "        vertical-align: top;\n",
       "    }\n",
       "\n",
       "    .dataframe thead th {\n",
       "        text-align: right;\n",
       "    }\n",
       "</style>\n",
       "<table border=\"1\" class=\"dataframe\">\n",
       "  <thead>\n",
       "    <tr style=\"text-align: right;\">\n",
       "      <th></th>\n",
       "      <th>Film Name</th>\n",
       "      <th>Release Year</th>\n",
       "      <th>IMDB Rank</th>\n",
       "      <th>Gross Revenue</th>\n",
       "    </tr>\n",
       "  </thead>\n",
       "  <tbody>\n",
       "    <tr>\n",
       "      <th>1</th>\n",
       "      <td>Skyfall</td>\n",
       "      <td>2012</td>\n",
       "      <td>7.7</td>\n",
       "      <td>$304.36M</td>\n",
       "    </tr>\n",
       "    <tr>\n",
       "      <th>2</th>\n",
       "      <td>Argo</td>\n",
       "      <td>2012</td>\n",
       "      <td>7.7</td>\n",
       "      <td>$136.03M</td>\n",
       "    </tr>\n",
       "    <tr>\n",
       "      <th>3</th>\n",
       "      <td>Tombstone</td>\n",
       "      <td>1993</td>\n",
       "      <td>7.8</td>\n",
       "      <td>$56.51M</td>\n",
       "    </tr>\n",
       "    <tr>\n",
       "      <th>4</th>\n",
       "      <td>The Fall</td>\n",
       "      <td>2006</td>\n",
       "      <td>7.9</td>\n",
       "      <td>$2.28M</td>\n",
       "    </tr>\n",
       "    <tr>\n",
       "      <th>5</th>\n",
       "      <td>Midnight Express</td>\n",
       "      <td>1978</td>\n",
       "      <td>7.6</td>\n",
       "      <td>$35.00M</td>\n",
       "    </tr>\n",
       "    <tr>\n",
       "      <th>6</th>\n",
       "      <td>Kis Uykusu</td>\n",
       "      <td>2014</td>\n",
       "      <td>8.2</td>\n",
       "      <td>$0.17M</td>\n",
       "    </tr>\n",
       "    <tr>\n",
       "      <th>7</th>\n",
       "      <td>Gegen die Wand</td>\n",
       "      <td>2004</td>\n",
       "      <td>7.9</td>\n",
       "      <td>None</td>\n",
       "    </tr>\n",
       "    <tr>\n",
       "      <th>8</th>\n",
       "      <td>Mustang</td>\n",
       "      <td>2015</td>\n",
       "      <td>7.6</td>\n",
       "      <td>$0.85M</td>\n",
       "    </tr>\n",
       "    <tr>\n",
       "      <th>9</th>\n",
       "      <td>Eskiya</td>\n",
       "      <td>1996</td>\n",
       "      <td>8.3</td>\n",
       "      <td>None</td>\n",
       "    </tr>\n",
       "    <tr>\n",
       "      <th>10</th>\n",
       "      <td>Babam ve Oglum</td>\n",
       "      <td>2005</td>\n",
       "      <td>8.3</td>\n",
       "      <td>None</td>\n",
       "    </tr>\n",
       "    <tr>\n",
       "      <th>11</th>\n",
       "      <td>Bir Zamanlar Anadolu'da</td>\n",
       "      <td>2011</td>\n",
       "      <td>7.9</td>\n",
       "      <td>$0.14M</td>\n",
       "    </tr>\n",
       "    <tr>\n",
       "      <th>12</th>\n",
       "      <td>Ayla: The Daughter of War</td>\n",
       "      <td>2017</td>\n",
       "      <td>8.5</td>\n",
       "      <td>None</td>\n",
       "    </tr>\n",
       "    <tr>\n",
       "      <th>13</th>\n",
       "      <td>G.O.R.A.</td>\n",
       "      <td>2004</td>\n",
       "      <td>8.0</td>\n",
       "      <td>None</td>\n",
       "    </tr>\n",
       "    <tr>\n",
       "      <th>14</th>\n",
       "      <td>Baby</td>\n",
       "      <td>I) (2015</td>\n",
       "      <td>8.0</td>\n",
       "      <td>None</td>\n",
       "    </tr>\n",
       "    <tr>\n",
       "      <th>15</th>\n",
       "      <td>Auf der anderen Seite</td>\n",
       "      <td>2007</td>\n",
       "      <td>7.8</td>\n",
       "      <td>$0.74M</td>\n",
       "    </tr>\n",
       "    <tr>\n",
       "      <th>16</th>\n",
       "      <td>De ademtocht</td>\n",
       "      <td>2009</td>\n",
       "      <td>8.0</td>\n",
       "      <td>None</td>\n",
       "    </tr>\n",
       "    <tr>\n",
       "      <th>17</th>\n",
       "      <td>Vizontele</td>\n",
       "      <td>2001</td>\n",
       "      <td>8.0</td>\n",
       "      <td>None</td>\n",
       "    </tr>\n",
       "  </tbody>\n",
       "</table>\n",
       "</div>"
      ],
      "text/plain": [
       "                    Film Name Release Year IMDB Rank Gross Revenue\n",
       "1                     Skyfall         2012       7.7      $304.36M\n",
       "2                        Argo         2012       7.7      $136.03M\n",
       "3                   Tombstone         1993       7.8       $56.51M\n",
       "4                    The Fall         2006       7.9        $2.28M\n",
       "5            Midnight Express         1978       7.6       $35.00M\n",
       "6                  Kis Uykusu         2014       8.2        $0.17M\n",
       "7              Gegen die Wand         2004       7.9          None\n",
       "8                     Mustang         2015       7.6        $0.85M\n",
       "9                      Eskiya         1996       8.3          None\n",
       "10             Babam ve Oglum         2005       8.3          None\n",
       "11    Bir Zamanlar Anadolu'da         2011       7.9        $0.14M\n",
       "12  Ayla: The Daughter of War         2017       8.5          None\n",
       "13                   G.O.R.A.         2004       8.0          None\n",
       "14                       Baby     I) (2015       8.0          None\n",
       "15      Auf der anderen Seite         2007       7.8        $0.74M\n",
       "16               De ademtocht         2009       8.0          None\n",
       "17                  Vizontele         2001       8.0          None"
      ]
     },
     "execution_count": 15,
     "metadata": {},
     "output_type": "execute_result"
    }
   ],
   "source": [
    "# I will create a dataframe for the information we scraped\n",
    "movies_data = pd.DataFrame({'Film Name':names,'Release Year':years,'IMDB Rank':ranks, 'Gross Revenue':gross_revenues})\n",
    "\n",
    "movies_data.index = np.arange(1, len(movies_data)+1)\n",
    "\n",
    "movies_data"
   ]
  },
  {
   "cell_type": "code",
   "execution_count": 16,
   "metadata": {},
   "outputs": [],
   "source": [
    "#Saving our table to a CSV file\n",
    "movies_data.to_csv('IMDBTop1000_Movies_Filmed_Turkey.csv')"
   ]
  },
  {
   "cell_type": "markdown",
   "metadata": {},
   "source": [
    "Thank you."
   ]
  }
 ],
 "metadata": {
  "kernelspec": {
   "display_name": "Python 3",
   "language": "python",
   "name": "python3"
  },
  "language_info": {
   "codemirror_mode": {
    "name": "ipython",
    "version": 3
   },
   "file_extension": ".py",
   "mimetype": "text/x-python",
   "name": "python",
   "nbconvert_exporter": "python",
   "pygments_lexer": "ipython3",
   "version": "3.7.6"
  }
 },
 "nbformat": 4,
 "nbformat_minor": 2
}
